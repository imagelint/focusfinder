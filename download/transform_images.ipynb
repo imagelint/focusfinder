{
 "metadata": {
  "language_info": {
   "codemirror_mode": {
    "name": "ipython",
    "version": 3
   },
   "file_extension": ".py",
   "mimetype": "text/x-python",
   "name": "python",
   "nbconvert_exporter": "python",
   "pygments_lexer": "ipython3",
   "version": "3.6.9-final"
  },
  "orig_nbformat": 2,
  "kernelspec": {
   "name": "python36964bita6d5d8b7177144a79ba5df9b216e706c",
   "display_name": "Python 3.6.9 64-bit"
  }
 },
 "nbformat": 4,
 "nbformat_minor": 2,
 "cells": [
  {
   "source": [
    "# transform images"
   ],
   "cell_type": "markdown",
   "metadata": {}
  },
  {
   "cell_type": "code",
   "execution_count": 2,
   "metadata": {},
   "outputs": [],
   "source": [
    "import pandas as pd\n",
    "labels_path = './labels/100_img_test.csv'\n",
    "df = pd.read_csv(labels_path, names=['name','x_p','y_p'], header=None)"
   ]
  },
  {
   "cell_type": "code",
   "execution_count": 5,
   "metadata": {},
   "outputs": [],
   "source": [
    "# Load image\n",
    "import cv2\n",
    "pxl = 256\n",
    "focus_points = []\n",
    "df2 = df\n",
    "for i, file_name in enumerate(df['name']):\n",
    "    original_img = cv2.imread(('./100_images/'+file_name))\n",
    "    # fill with black to create square img\n",
    "    width, height, color = original_img.shape\n",
    "    p_height, p_width = [0, int((height-width)/2)] if width < height else [int((width - height)/2), 0]\n",
    "    squared_img = cv2.copyMakeBorder(original_img, p_width, p_width, p_height, p_height, cv2.BORDER_CONSTANT, value=[0,0,0])\n",
    "    # resize\n",
    "    scaled_img = cv2.resize(squared_img, (pxl, pxl), interpolation = cv2.INTER_AREA)\n",
    "    #bgr_img = cv2.cvtColor(scaled_img, cv2.COLOR_RGB2BGR)\n",
    "    cv2.imwrite((\"norm_images/\"+file_name), scaled_img)\n",
    "\n",
    "    # save new x and y position of focus point\n",
    "    x_p = df['x_p'][i]\n",
    "    y_p = df['y_p'][i]\n",
    "    x_focus_original = (x_p*width) + p_width\n",
    "    y_focus_original = (y_p*height) + p_height\n",
    "    # rescale\n",
    "    pxl_original = max(width,height)\n",
    "    df2['x_p'][i] = (x_focus_original * pxl) / pxl_original\n",
    "    df2['y_p'][i] = (y_focus_original * pxl) / pxl_original\n",
    "df2.to_csv(r'labels/100_norm_imgs.csv')"
   ]
  },
  {
   "cell_type": "code",
   "execution_count": null,
   "metadata": {},
   "outputs": [],
   "source": [
    "def square_img(_img, value):\n",
    "    width, height = _img.shape\n",
    "    p_width, p_heigt = [0, (height-width)/2] if width < height else [(width - height)/2, 0]\n",
    "    constant = cv2.copyMakeBorder(img, padding_height, padding_height, padding_width, padding_width, cv2.BORDER_CONSTANT, value=value)\n",
    "    return constant"
   ]
  },
  {
   "cell_type": "code",
   "execution_count": null,
   "metadata": {},
   "outputs": [],
   "source": [
    "df2.to_csv(r'labels/100_norm_imgs.csv')"
   ]
  },
  {
   "cell_type": "code",
   "execution_count": 31,
   "metadata": {},
   "outputs": [
    {
     "output_type": "stream",
     "name": "stdout",
     "text": [
      "500\n(1500.0, 999.9999899999999)\n(128.0, 85.33333248)\n"
     ]
    }
   ],
   "source": [
    "pxl = 256\n",
    "width = 2000\n",
    "height = 3000\n",
    "p_height, p_width = [0, (height-width)/2] if width < height else [(width - height)/2, 0]\n",
    "x_p = 0.5\n",
    "y_p = 0.33333333\n",
    "\n",
    "\n",
    "x_focus_original = (x_p*width) + p_width\n",
    "y_focus_original = (y_p*height) + p_height\n",
    "# rescale\n",
    "pxl_original = max(width,height)\n",
    "x_focus = (x_focus_original * pxl) / pxl_original\n",
    "y_focus = (y_focus_original * pxl) / pxl_original"
   ]
  },
  {
   "source": [
    "# transform csv"
   ],
   "cell_type": "markdown",
   "metadata": {}
  },
  {
   "cell_type": "code",
   "execution_count": null,
   "metadata": {},
   "outputs": [],
   "source": [
    "df"
   ]
  }
 ]
}